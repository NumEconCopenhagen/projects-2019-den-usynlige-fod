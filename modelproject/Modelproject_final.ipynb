{
 "cells": [
  {
   "cell_type": "markdown",
   "metadata": {},
   "source": [
    "# Introduction"
   ]
  },
  {
   "cell_type": "markdown",
   "metadata": {},
   "source": [
    "Taxes play an important role for every individual in the economy. The size of the tax payment affects the disposible income, and thus the (possible) consumption level. The government collects taxes in order to finance its expenditures. The literatture has estimated that an increase in the marginal tax rate induces people to work less. This implies that the government cannot set a too high marginal tax rate in order to maximize its revenue. In the end, both workers and the government benefit from an optimal tax system. In this project, we examine the change of behaviour of a worker due to a change in the marginal tax rate. \n",
    "\n",
    "In this project, we only consider changes on the intensive margin, i.e. how people adjust their work hours or/and effort due to changes in the marginal tax rate, and not if they change employment status due to a change in the marginal tax rate. Feldstein (1995) argues that taxable income as endogenous variable is better when estimating changes in behaviour due to changes in the marginal tax rate, since taxable income captures changes in hours worked and changes in work effort. We apply the same method as Feldstein (1995) and consider the change in taxable income from changes in the marginal tax rate. "
   ]
  },
  {
   "cell_type": "markdown",
   "metadata": {},
   "source": [
    "# Model description"
   ]
  },
  {
   "cell_type": "markdown",
   "metadata": {},
   "source": [
    "We consider the utility function given by \n",
    "\n",
    "$U_i = c_i - \\frac{\\alpha _i}{1+\\frac{1}{\\epsilon}} ( \\frac{z _i}{ \\alpha _i})^ {1+ \\frac{1}{\\epsilon}}$\n",
    "\n",
    "where $c_i$ denotes consumption of the individual, while $z_i$ denotes the taxable income of the individual. $\\alpha _i$ denotes the potential earnings level of the individual, and $\\epsilon$ denotes the elasticity of taxable income with respect to the net-of-tax rate. \n",
    "\n",
    "The consumption level is dependent of the taxable income. Thus, we consider the budget constraint given by\n",
    "\n",
    "$c_i = z_i - T(z_i)$\n",
    "\n",
    "where $T(z_i)$ is the tax payment. This implies that we assume that the individual uses all of his disposible income on consumption. The tax payment is given by \n",
    "\n",
    "$T(z_i) = m*z_i$ \n",
    "\n",
    "where $m$ is the tax rate chosen by the government. Since the tax rate is independent of earnings, we consider a proportional tax system.\n",
    "\n",
    "We want to maximize the utility of the individual subject to his budget constraint, i.e.\n",
    "\n",
    "$\\max\\limits_{z_i} U_i=c_i - \\frac{\\alpha _i}{1+\\frac{1}{\\epsilon}} ( \\frac{z _i}{ \\alpha _i})^ {1+ \\frac{1}{\\epsilon}}$ s.t. $c_i = z_i - T(z_i)$"
   ]
  },
  {
   "cell_type": "markdown",
   "metadata": {},
   "source": [
    "# Solutions"
   ]
  },
  {
   "cell_type": "markdown",
   "metadata": {},
   "source": [
    "First, we find the analytical solution. Thus, we find the optimal taxable income of the individual subject to the tax rate. \n",
    "Second, we show the graphical solution. Here, we see the optimum of the indifference curve, the budget constraint and the optimum of the individual."
   ]
  },
  {
   "cell_type": "markdown",
   "metadata": {},
   "source": [
    "## Analytical solution"
   ]
  },
  {
   "cell_type": "markdown",
   "metadata": {},
   "source": [
    "We import the `sympy`-package in order to define the variables and parameters. Afterwards, we use the `.init_printing`-function, so the variables are written in a pretty way. Lastly, we define the variables and parameters."
   ]
  },
  {
   "cell_type": "code",
   "execution_count": 2,
   "metadata": {},
   "outputs": [],
   "source": [
    "# 1) Import sympy in order to write nice equations.\n",
    "import sympy as sm\n",
    "\n",
    "# 2) Define that we want the variables are printed in a pretty way.\n",
    "sm.init_printing(use_unicode=True)\n",
    "\n",
    "# 3) Define the different variables and parameters.\n",
    "U    = sm.symbols('U')\n",
    "c    = sm.symbols('c')\n",
    "z    = sm.symbols('z')\n",
    "eps  = sm.symbols('epsilon')\n",
    "T_z  = sm.symbols('T(z)')\n",
    "mtax = sm.symbols('m')\n",
    "alp  = sm.symbols('alpha')"
   ]
  },
  {
   "cell_type": "markdown",
   "metadata": {},
   "source": [
    "We define the different functions. In total, we consider three different functions: the utility function, the budget constraint and the tax payment. The last two functions are functions of taxable income. "
   ]
  },
  {
   "cell_type": "code",
   "execution_count": 3,
   "metadata": {},
   "outputs": [
    {
     "data": {
      "image/png": "[encoded data removed]",
      "text/latex": [
       "$$- \\frac{\\alpha \\left(\\frac{z}{\\alpha}\\right)^{1 + \\frac{1}{\\epsilon}}}{1 + \\frac{1}{\\epsilon}} + c$$"
      ],
      "text/plain": [
       "           1    \n",
       "       1 + ─    \n",
       "           ε    \n",
       "    ⎛z⎞         \n",
       "  α⋅⎜─⎟         \n",
       "    ⎝α⎠         \n",
       "- ────────── + c\n",
       "        1       \n",
       "    1 + ─       \n",
       "        ε       "
      ]
     },
     "execution_count": 3,
     "metadata": {},
     "output_type": "execute_result"
    }
   ],
   "source": [
    "# Define utility function.\n",
    "utility = c - alp/(1+1/eps)*(z/alp)**(1+1/eps)\n",
    "utility"
   ]
  },
  {
   "cell_type": "code",
   "execution_count": 4,
   "metadata": {},
   "outputs": [
    {
     "data": {
      "image/png": "[encoded data removed]",
      "text/latex": [
       "$$c = - T(z) + z$$"
      ],
      "text/plain": [
       "c = -T(z) + z"
      ]
     },
     "execution_count": 4,
     "metadata": {},
     "output_type": "execute_result"
    }
   ],
   "source": [
    "# Define budget constraint.\n",
    "budget_constraint = sm.Eq(c, z - T_z)\n",
    "budget_constraint"
   ]
  },
  {
   "cell_type": "code",
   "execution_count": 5,
   "metadata": {},
   "outputs": [
    {
     "data": {
      "image/png": "[encoded data removed]",
      "text/latex": [
       "$$T(z) = m z$$"
      ],
      "text/plain": [
       "T(z) = m⋅z"
      ]
     },
     "execution_count": 5,
     "metadata": {},
     "output_type": "execute_result"
    }
   ],
   "source": [
    "# Define tax payment.\n",
    "taxpay = sm.Eq(T_z, mtax*z)\n",
    "taxpay"
   ]
  },
  {
   "cell_type": "markdown",
   "metadata": {},
   "source": [
    "In the next step, we want to substitute the tax payment into the budget constraint."
   ]
  },
  {
   "cell_type": "code",
   "execution_count": 6,
   "metadata": {},
   "outputs": [
    {
     "data": {
      "image/png": "[encoded data removed]",
      "text/latex": [
       "$$c = - m z + z$$"
      ],
      "text/plain": [
       "c = -m⋅z + z"
      ]
     },
     "execution_count": 6,
     "metadata": {},
     "output_type": "execute_result"
    }
   ],
   "source": [
    "# 1) Isolate T_z in the tax payment (this is done already, but to make sure, we run this line of code).\n",
    "tax_solve = sm.solve(taxpay, T_z)\n",
    "\n",
    "# 2) Define that we want the tax payment substituted into the budget constraint.\n",
    "budget_constraint_sub = budget_constraint.subs(T_z, tax_solve[0])\n",
    "\n",
    "# 3) Ensure that the budget constraint is correct after the substitution. \n",
    "budget_constraint_sub\n"
   ]
  },
  {
   "cell_type": "markdown",
   "metadata": {},
   "source": [
    "Now, we want to substitute the budget constraint into the utility function. This is done in the same way as before. "
   ]
  },
  {
   "cell_type": "code",
   "execution_count": 7,
   "metadata": {},
   "outputs": [
    {
     "data": {
      "image/png": "[encoded data removed]",
      "text/latex": [
       "$$- \\frac{\\alpha \\left(\\frac{z}{\\alpha}\\right)^{1 + \\frac{1}{\\epsilon}}}{1 + \\frac{1}{\\epsilon}} + z \\left(- m + 1\\right)$$"
      ],
      "text/plain": [
       "           1             \n",
       "       1 + ─             \n",
       "           ε             \n",
       "    ⎛z⎞                  \n",
       "  α⋅⎜─⎟                  \n",
       "    ⎝α⎠                  \n",
       "- ────────── + z⋅(-m + 1)\n",
       "        1                \n",
       "    1 + ─                \n",
       "        ε                "
      ]
     },
     "execution_count": 7,
     "metadata": {},
     "output_type": "execute_result"
    }
   ],
   "source": [
    "# 1) Isolate c in the budget constraint (this is done already, but to make sure, we run this line of code).\n",
    "budget_constraint_solve = sm.solve(budget_constraint_sub, c)\n",
    "\n",
    "# 2) Define that we want the budget constraint substituted into the utility function.\n",
    "utility_sub = utility.subs(c, budget_constraint_solve[0])\n",
    "\n",
    "# 3) Ensure that the utility function is correct after the substitution. \n",
    "utility_sub"
   ]
  },
  {
   "cell_type": "markdown",
   "metadata": {},
   "source": [
    "We have concluded that the utility function is defined in the right way. After substitution, the utility function does only depend of the taxable income (and parameters, but these are fixed). \n",
    "In order to find the optimal level of taxable income, we differentiate the utility function with respect to taxable income. Afterwards, we isolate for taxable income to derive the optimal level of taxable income ($z^*$). "
   ]
  },
  {
   "cell_type": "code",
   "execution_count": 8,
   "metadata": {},
   "outputs": [
    {
     "data": {
      "image/png": "[encoded data removed]",
      "text/latex": [
       "$$\\left [ \\alpha \\left(- m + 1\\right)^{\\epsilon}\\right ]$$"
      ],
      "text/plain": [
       "⎡          ε⎤\n",
       "⎣α⋅(-m + 1) ⎦"
      ]
     },
     "execution_count": 8,
     "metadata": {},
     "output_type": "execute_result"
    }
   ],
   "source": [
    "# 1) Define that we want to calculate the derivate of the utility function with respect to taxable income.\n",
    "foc = sm.diff(utility_sub, z)\n",
    "\n",
    "# 2) Define that we want to isolate for taxable income to derive z*.\n",
    "z_star = sm.solve(foc, z)\n",
    "\n",
    "# 3) Define the optimal level of taxable income as a Python-function. \n",
    "z_star_func = sm.lambdify((mtax, alp, eps), z_star)\n",
    "\n",
    "# 4) Examine the optimal level of taxable income.\n",
    "z_star\n",
    "\n",
    "\n"
   ]
  },
  {
   "cell_type": "markdown",
   "metadata": {},
   "source": [
    "We note that the optimal level of taxable income depends on the marginal tax rate, the potential earnings and the elasticity of taxable income with respect to the net-of-tax rate. In the special case where the individual face no taxes, i.e. where $m=0$, his taxable income will equal his potential earnings ($z _i ^* = \\alpha _i$). \n",
    "Furthermore, we note that the taxable income is lowered more due to an increase in the tax rate when the elasticity of taxable income is high. "
   ]
  },
  {
   "cell_type": "markdown",
   "metadata": {},
   "source": [
    "## Graphical solution\n"
   ]
  },
  {
   "cell_type": "markdown",
   "metadata": {},
   "source": [
    "We can show how people change behaviour due to a change in the marginal tax rate. As noticed before, the marginal tax rate and the elasticity of taxable income affect how much people deviate from their potential earnings. This can be shown in a graph where one can examine the changes in taxable income when the parameters are changed. In order to do that, we need to define different functions."
   ]
  },
  {
   "cell_type": "markdown",
   "metadata": {},
   "source": [
    "First, we import the `numpy`-package. Afterwards, we define a function for the budget constraint and the utility function. In the utility function, we insert the solution given by $z^*$ instead of $z$. We are then possible to determine the optimal consumption level which is a function of the optimal taxable income. Finally, we isolate consumption and keep utility fixed in order to draw an indifference curve ."
   ]
  },
  {
   "cell_type": "code",
   "execution_count": 9,
   "metadata": {},
   "outputs": [],
   "source": [
    "# 1) Import the numpy-package.\n",
    "import numpy as np\n",
    "\n",
    "# 2) Define the budget constraint.\n",
    "def budget_con_fuc(m):\n",
    "    return (1-m)*z\n",
    "budget_con = np.array(range(2))\n",
    "\n",
    "# 3) Define the utility function. \n",
    "def value_of_choice(alpha, epsilon, m):\n",
    "    \n",
    "    # The resulting utility is\n",
    "    utility_f = (1-m)*(alpha*(1-m)**epsilon) - alpha/(1+1/epsilon)*(alpha*(1-m)**epsilon/alpha)**(1+1/epsilon)   \n",
    "    return utility_f\n",
    "\n",
    "# 3) Define the consumption level determined by the optimal taxable income.\n",
    "def y(budget_con, m): \n",
    "    return budget_con*(1-m)\n",
    "\n",
    "# 4) Define the consumption level as a function of the fixed utility and taxable income.\n",
    "def f(budget_con, alpha, epsilon, m):\n",
    "    u = value_of_choice(alpha, epsilon, m)\n",
    "    return u + alpha/(1+1/epsilon)*(budget_con/alpha)**(1+1/epsilon)"
   ]
  },
  {
   "cell_type": "markdown",
   "metadata": {},
   "source": [
    "We want to plot the utility function, the budget constraint and the optimal taxable income. The optimal taxable income is given by the point where the budget constraint is tangent to the utility function (which is marked with a bullet on the graph). \n",
    "\n",
    "In order to do so, we import the `matplotlib`-package in order to plot the graphs. Furthermore, we import the `ipywidgets`-package in order to generate sliders. "
   ]
  },
  {
   "cell_type": "code",
   "execution_count": 10,
   "metadata": {},
   "outputs": [],
   "source": [
    "# Import packages in order to plot the graph and generate sliders. \n",
    "import matplotlib.pyplot as plt\n",
    "import ipywidgets as widgets"
   ]
  },
  {
   "cell_type": "code",
   "execution_count": 11,
   "metadata": {},
   "outputs": [
    {
     "data": {
      "application/vnd.jupyter.widget-view+json": {
       "model_id": "ae95a2f375a1438690ca57f00de8ca87",
       "version_major": 2,
       "version_minor": 0
      },
      "text/plain": [
       "interactive(children=(IntSlider(value=4910, description='alpha', max=10000, min=10, step=100), FloatSlider(val…"
      ]
     },
     "metadata": {},
     "output_type": "display_data"
    }
   ],
   "source": [
    "# 1) Define a custom value of the parameters of interest.\n",
    "tax     = 0.4\n",
    "epsilon = 1\n",
    "alpha   = 1\n",
    "\n",
    "# 2) Generate the graph.     \n",
    "def graph(alpha, epsilon, tax):\n",
    "    plt.figure(figsize=(12,6))\n",
    "    budget_con = np.arange(0.0, alpha, 1)\n",
    "    plt.plot(budget_con, f(budget_con, alpha, epsilon, tax))\n",
    "    plt.plot(budget_con, y(budget_con, tax))\n",
    "    z_opt = (alpha*(1-tax)**epsilon)\n",
    "    print(\"The optimal taxable income is: \" + str(round(z_opt)))\n",
    "    plt.plot(z_opt, (1-tax)*z_opt, 'ro')\n",
    "    plt.ylabel('Consumption')\n",
    "    plt.xlabel('Taxable income')\n",
    "    plt.legend(['Indifference curve','Budget constraint', 'Optimum'])\n",
    "    return    \n",
    "\n",
    "# 3) Generate the sliders. \n",
    "widgets.interact(graph,\n",
    "    alpha=(10,10000,100), epsilon=(0.01,1.0,0.01), tax=(0.0,1,0.01) \n",
    ");"
   ]
  },
  {
   "cell_type": "markdown",
   "metadata": {},
   "source": [
    "The graph confirms the conclusion from section 3.1. \n",
    "$z^*$ increases when $\\alpha$ increases. This is obvious since one gets a higher income when his potential earnings increases everything else equal. \n",
    "$z^*$ decreases when $m$ increases. When the marginal tax rate increases, leisure is cheaper, and hence people tend to substitute work for leisure which lowers the taxable income. \n",
    "$z^*$ decreases when $\\epsilon$ increases. When the elasticity of taxable income increases, people respond more to a change in the marginal tax rate. The greater the elasticity, the greater the response. Hence, an increase in the elasticity of taxable income lowers taxable income due to larger labor supply responses. "
   ]
  },
  {
   "cell_type": "markdown",
   "metadata": {},
   "source": [
    "# Further analysis"
   ]
  },
  {
   "cell_type": "markdown",
   "metadata": {},
   "source": [
    "Previously, we considered a proportional tax system where everyone paid faced the marginal tax rate for any income level. However, most Western contries have a progressive tax system where people with high income levels face a higher marginal tax rate. Thus, we examine the optimal taxable income when the individual face a tax system where the marginal tax rate to the right of a threshold is higher than to the left of the threshold."
   ]
  },
  {
   "cell_type": "markdown",
   "metadata": {},
   "source": [
    "## Extension of the baseline model"
   ]
  },
  {
   "cell_type": "markdown",
   "metadata": {},
   "source": [
    "We consider the same equations as in section 2. However, the function which defines the tax payment is different now. The tax payment is given by\n",
    "\n",
    "$T_{new} (z_i) = min(z_i, K) * m + max(z_i - K, 0) * m_H$\n",
    "\n",
    "where $K$ is the threshold, and $m_H$ is the marginal tax rate faced by high-income earners (people with an income above the threshold). \n",
    "\n",
    "We note that if $z_i \\leq K$ then there is no change before, and the optimal tax rate is identical to the solution in section 3. An individual with an income above the threshold face the tax payment \n",
    "\n",
    "$T_{H} (z_i) = K * m + (z_i - K) * m_H$"
   ]
  },
  {
   "cell_type": "markdown",
   "metadata": {},
   "source": [
    "## Numerical analysis"
   ]
  },
  {
   "cell_type": "markdown",
   "metadata": {},
   "source": [
    "As mentioned in section 4.1, the introduction of the new tax system does not change anything from before for people with an income below the threshold. High-income earners respond in another way then before, and hence we calculate the optimal taxable income for them. \n",
    "The steps in this section is in most cases identical with the steps in section 3.2"
   ]
  },
  {
   "cell_type": "markdown",
   "metadata": {},
   "source": [
    "First, we define the new symbols and the new tax system for high-income earners. "
   ]
  },
  {
   "cell_type": "code",
   "execution_count": 12,
   "metadata": {},
   "outputs": [
    {
     "data": {
      "image/png": "[encoded data removed]",
      "text/latex": [
       "$$T_{H}(z) = K m + m_{H} \\left(- K + z\\right)$$"
      ],
      "text/plain": [
       "T_{H}(z) = K⋅m + m_H⋅(-K + z)"
      ]
     },
     "execution_count": 12,
     "metadata": {},
     "output_type": "execute_result"
    }
   ],
   "source": [
    "# 1) Define symbols.\n",
    "T_H_z   = sm.symbols('T_{H}(z)')\n",
    "m_H     = sm.symbols('m_H')\n",
    "Kn      = sm.symbols('K')\n",
    "\n",
    "# 2) Define new tax system.\n",
    "taxhigh = sm.Eq(T_H_z, mtax*Kn + m_H*(z-Kn))\n",
    "taxhigh"
   ]
  },
  {
   "cell_type": "markdown",
   "metadata": {},
   "source": [
    "We insert the new function of tax payment into the budget constraint."
   ]
  },
  {
   "cell_type": "code",
   "execution_count": 13,
   "metadata": {},
   "outputs": [
    {
     "data": {
      "image/png": "[encoded data removed]",
      "text/latex": [
       "$$c = - K m + K m_{H} - m_{H} z + z$$"
      ],
      "text/plain": [
       "c = -K⋅m + K⋅m_H - m_H⋅z + z"
      ]
     },
     "execution_count": 13,
     "metadata": {},
     "output_type": "execute_result"
    }
   ],
   "source": [
    "# 1) Isolate T_z in the tax payment (this is done already, but to make sure, we run this line of code).\n",
    "tax_high_solve = sm.solve(taxhigh, T_H_z)\n",
    "\n",
    "# 2) Define that we want the tax payment substituted into the budget constraint.\n",
    "budget_constraint_high_sub = budget_constraint.subs(T_z, tax_high_solve[0])\n",
    "\n",
    "# 3) Ensure that the budget constraint is correct after the substitution. \n",
    "budget_constraint_high_sub"
   ]
  },
  {
   "cell_type": "markdown",
   "metadata": {},
   "source": [
    "We insert the new budget constraint into the utility function."
   ]
  },
  {
   "cell_type": "code",
   "execution_count": 14,
   "metadata": {},
   "outputs": [
    {
     "data": {
      "image/png": "[encoded data removed]",
      "text/latex": [
       "$$- K m + K m_{H} - \\frac{\\alpha \\left(\\frac{z}{\\alpha}\\right)^{1 + \\frac{1}{\\epsilon}}}{1 + \\frac{1}{\\epsilon}} - m_{H} z + z$$"
      ],
      "text/plain": [
       "                        1            \n",
       "                    1 + ─            \n",
       "                        ε            \n",
       "                 ⎛z⎞                 \n",
       "               α⋅⎜─⎟                 \n",
       "                 ⎝α⎠                 \n",
       "-K⋅m + K⋅m_H - ────────── - m_H⋅z + z\n",
       "                     1               \n",
       "                 1 + ─               \n",
       "                     ε               "
      ]
     },
     "execution_count": 14,
     "metadata": {},
     "output_type": "execute_result"
    }
   ],
   "source": [
    "# 1) Isolate c in the budget constraint (this is done already, but to make sure, we run this line of code).\n",
    "budget_constraint_high_solve = sm.solve(budget_constraint_high_sub, c)\n",
    "\n",
    "# 2) Define that we want the budget constraint substituted into the utility function.\n",
    "utility_high_sub = utility.subs(c, budget_constraint_high_solve[0])\n",
    "\n",
    "# 3) Ensure that the utility function is correct after the substitution. \n",
    "utility_high_sub"
   ]
  },
  {
   "cell_type": "markdown",
   "metadata": {},
   "source": [
    "We differentiate the utility function with respect to taxable income in order to derive the optimal level of taxable income. "
   ]
  },
  {
   "cell_type": "code",
   "execution_count": 15,
   "metadata": {},
   "outputs": [
    {
     "data": {
      "image/png": "[encoded data removed]",
      "text/latex": [
       "$$\\left [ \\alpha \\left(- m_{H} + 1\\right)^{\\epsilon}\\right ]$$"
      ],
      "text/plain": [
       "⎡            ε⎤\n",
       "⎣α⋅(-m_H + 1) ⎦"
      ]
     },
     "execution_count": 15,
     "metadata": {},
     "output_type": "execute_result"
    }
   ],
   "source": [
    "# 1) Define that we want to calculate the derivate of the utility function with respect to taxable income.\n",
    "foc_high = sm.diff(utility_high_sub, z)\n",
    "\n",
    "# 2) Define that we want to isolate for taxable income to derive z*.\n",
    "z_star_high = sm.solve(foc_high, z)\n",
    "\n",
    "# 3) Define the optimal level of taxable income as a Python-function. \n",
    "z_star_func_high = sm.lambdify((m_H, alp, eps), z_star_high)\n",
    "\n",
    "# 4) Examine the optimal level of taxable income.\n",
    "z_star_high"
   ]
  },
  {
   "cell_type": "markdown",
   "metadata": {},
   "source": [
    "We denote this level of optimal taxable income as $z_{high} ^*$. We note that this is the same optimal taxable income as in section 3.1 besides the marginal tax rate. However, it is not possible in this function to show that high-income earners tend to earn an income which is identical to the threshold. This is called \"bunching\" since people tend to bunch at kink points. If it people with an income above the threshold that $z_{high}^*<K$ and $z^*>K$ then people will bunch at the kink. This is possible to show in a graphical analysis. "
   ]
  },
  {
   "cell_type": "markdown",
   "metadata": {},
   "source": [
    "## Graphical analysis"
   ]
  },
  {
   "cell_type": "markdown",
   "metadata": {},
   "source": [
    "In this section we will analyse the behavior of the worker grahpically. First, we will find the maxmimum utility of the worker. "
   ]
  },
  {
   "cell_type": "code",
   "execution_count": 37,
   "metadata": {},
   "outputs": [
    {
     "data": {
      "application/vnd.jupyter.widget-view+json": {
       "model_id": "d302a32927b44c6a8d547d5d267ec9e0",
       "version_major": 2,
       "version_minor": 0
      },
      "text/plain": [
       "interactive(children=(IntSlider(value=1000, description='alpha', max=2000, min=10, step=10), FloatSlider(value…"
      ]
     },
     "metadata": {},
     "output_type": "display_data"
    }
   ],
   "source": [
    "# 1) Define a function that return the maximum utility level given alpha, epsilon, low tax rate, high tax rate and the threshold\n",
    "def value_of_choice_2(alpha, epsilon, tax_low, tax_high, kink):\n",
    "    \n",
    "    # 1.1) If the alpha is below the income threshold, the maximum utility is found using the old budget constraint without the tax rate for high income earners\n",
    "    if alpha < kink:\n",
    "        global z_opt_new\n",
    "        z_opt_new = (alpha*(1-tax_low)**epsilon)\n",
    "        utility_f = (1-tax_low)*(alpha*(1-tax_low)**epsilon) - alpha/(1+1/epsilon)*(alpha*(1-tax_low)**epsilon/alpha)**(1+1/epsilon)\n",
    "        return utility_f\n",
    "    \n",
    "    # 1.2) Find the maximum utility if alpha is above the threshold\n",
    "    if alpha >= kink:\n",
    "        \n",
    "        # 1.3) Find the utility for the budget constaint only below the threshold\n",
    "        utility_l = (1-tax_low)*(alpha*(1-tax_low)**epsilon) - alpha/(1+1/epsilon)*(alpha*(1-tax_low)**epsilon/alpha)**(1+1/epsilon)\n",
    "        z_opt_low = (alpha*(1-tax_low)**epsilon)\n",
    "        \n",
    "        # 1.4) If the optimal income earned on the low budget set is above the threshold the low utility should be evaluated in the threshold\n",
    "        if alpha*(1-tax_low)**epsilon>kink:\n",
    "            utility_l = (1-tax_low)*kink - alpha/(1+1/epsilon)*(kink/alpha)**(1+1/epsilon)\n",
    "            z_opt_low = kink\n",
    "            \n",
    "        # 1.5) Find the utility for the budget constaint only above the threshold\n",
    "        utility_h = (1-tax_low)*kink+(1-tax_high)*(alpha*(1-tax_high)**epsilon-kink) - alpha/(1+1/epsilon)*(alpha*(1-tax_high)**epsilon/alpha)**(1+1/epsilon)\n",
    "        z_opt_high = (alpha*(1-tax_high)**epsilon)\n",
    "        \n",
    "        # 1.4) If the optimal income earned on the high budget set is below the threshold the high utility should be evaluated in the threshold\n",
    "        if alpha*(1-tax_high)**epsilon<kink:\n",
    "            utility_h = (1-tax_low)*kink - alpha/(1+1/epsilon)*(kink/alpha)**(1+1/epsilon)\n",
    "            z_opt_high = kink\n",
    "        utility_g = max(utility_l, utility_h)\n",
    "        if utility_g==utility_l:\n",
    "            z_opt_new=z_opt_low\n",
    "        else:\n",
    "            z_opt_new=z_opt_high\n",
    "        return utility_g\n",
    "\n",
    "# 2) Define the indifference curve\n",
    "def indif_curve(budget_con, alpha, epsilon, tax_low, tax_high, k):\n",
    "    u = value_of_choice_2(alpha, epsilon, tax_low, tax_high, k)\n",
    "    return u + alpha/(1+1/epsilon)*(budget_con/alpha)**(1+1/epsilon)\n",
    "\n",
    "\n",
    "# 3) Define a function that makes a plot with the indifference curve, the budget constraint and the optimal behaviour.\n",
    "def graph(alpha, epsilon, tax_low, tax_high, kink):\n",
    "    plt.figure(figsize=(12,6))\n",
    "    budget_con = np.arange(0.0, alpha*1.1+100, 1)\n",
    "    plt.plot(budget_con, indif_curve(budget_con, alpha, epsilon, tax_low, tax_high, kink))\n",
    "    \n",
    "    lower = np.arange(0.0, kink, 1)\n",
    "    plt.plot(lower, lower*(1-tax_low))\n",
    "    \n",
    "    upper = np.arange(kink, alpha*1.1+100, 1)\n",
    "    plt.plot(upper, (1-tax_low)*kink+(upper-kink)*(1-tax_high))\n",
    "    \n",
    "    print(\"The optimal taxable income is: \"+str(round(z_opt_new)))\n",
    "    plt.plot(z_opt_new, utility_function(z_opt_new, alpha, epsilon, tax_low, tax_high, kink), 'ro')\n",
    "    plt.ylabel('Consumption')\n",
    "    plt.xlabel('Taxable income')\n",
    "    plt.legend(['Indifference curve','Budget constraint (low marginal tax)', 'Budget constraint (high marginal tax)', 'Optimum'])\n",
    "    return    \n",
    "\n",
    "# 4) Plot the graph with interactive widgets \n",
    "widgets.interact(graph,\n",
    "    alpha=(10,2000,10), epsilon=(0.01,1.0,0.01), tax_low=(0.0,1,0.01), tax_high=(0.1,1,0.01), kink=(10,1000,10)\n",
    ");"
   ]
  },
  {
   "cell_type": "markdown",
   "metadata": {},
   "source": [
    "We note some of the same results as in the conclusion in section 3.2. In this extended model, we note that people with a potential income slightly above the threshold will bunch at the kink. This is due to the fact that people are unwilling to work at the high marginal tax rate, but will like to work at the low marginal tax rate. Thus, they maximize their utility by having a taxable income exactly equal to the threshold. "
   ]
  },
  {
   "cell_type": "markdown",
   "metadata": {},
   "source": [
    "# Conclusion"
   ]
  },
  {
   "cell_type": "markdown",
   "metadata": {},
   "source": [
    "In this project, we have examined how people react to changes in the marginal tax rate. We have found that a larger marginal tax rate and a higher elasticity affect the labor supply negatively in a proportional tax system. This is shown analytically and by a graph, where one can change the parameter values.\n",
    "\n",
    "Most Western countries apply a progressive tax system, where high-income earners face a greater marginal tax rate. We show analyticcaly that initial top tax payers only are affected by the largest marginal tax rate. We have shown in the graph that people will tend to bunch at the kink, so they earn the highest possible income without having to pay the largest marginal tax rate. This is in line with the literature. "
   ]
  }
 ],
 "metadata": {
  "kernelspec": {
   "display_name": "Python 3",
   "language": "python",
   "name": "python3"
  },
  "language_info": {
   "codemirror_mode": {
    "name": "ipython",
    "version": 3
   },
   "file_extension": ".py",
   "mimetype": "text/x-python",
   "name": "python",
   "nbconvert_exporter": "python",
   "pygments_lexer": "ipython3",
   "version": "3.7.1"
  }
 },
 "nbformat": 4,
 "nbformat_minor": 2
}

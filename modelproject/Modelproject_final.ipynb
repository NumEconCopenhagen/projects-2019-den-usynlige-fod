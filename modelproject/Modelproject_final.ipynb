{
 "cells": [
  {
   "cell_type": "markdown",
   "metadata": {},
   "source": [
    "# 1. Introduction"
   ]
  },
  {
   "cell_type": "markdown",
   "metadata": {},
   "source": [
    "Taxes play an important role for every individual in the economy. The size of the tax payment affects the disposible income, and thus the (possible) consumption level. The government collects taxes in order to finance its expenditures. The literatture has estimated that an increase in the marginal tax rate induces people to work less. This implies that the government cannot set a too high marginal tax rate in order to maximize its revenue. In the end, both workers and the government benefit from an optimal tax system. In this project, we examine the change of behaviour of a worker due to a change in the marginal tax rate. We will further try to estimate the tax rate that maximizes the tax revenue by drawing a sample of agents with different abilities and preferences using `np.random`.\n",
    "\n",
    "In this project, we only consider changes on the intensive margin, i.e. how people adjust their work hours or/and effort due to changes in the marginal tax rate, and not if they change employment status due to a change in the marginal tax rate. Feldstein (1995) argues that taxable income as endogenous variable is better when estimating changes in behaviour due to changes in the marginal tax rate, since taxable income captures changes in hours worked and changes in work effort. We apply the same method as Feldstein (1995) and consider the change in taxable income from changes in the marginal tax rate. "
   ]
  },
  {
   "cell_type": "markdown",
   "metadata": {},
   "source": [
    "# 2. Model description"
   ]
  },
  {
   "cell_type": "markdown",
   "metadata": {},
   "source": [
    "We consider the utility function given by \n",
    "\n",
    "$U_i = c_i - \\frac{\\alpha _i}{1+\\frac{1}{\\epsilon}} ( \\frac{z _i}{ \\alpha _i})^ {1+ \\frac{1}{\\epsilon}}$\n",
    "\n",
    "where $c_i$ denotes consumption of the individual, while $z_i$ denotes the taxable income of the individual. $\\alpha _i$ denotes the potential earnings level of the individual, and $\\epsilon$ denotes the elasticity of taxable income with respect to the net-of-tax rate. \n",
    "\n",
    "The consumption level is dependent of the taxable income. Thus, we consider the budget constraint given by\n",
    "\n",
    "$c_i = z_i - T(z_i)$\n",
    "\n",
    "where $T(z_i)$ is the tax payment. This implies that we assume that the individual uses all of his disposible income on consumption. The tax payment is given by \n",
    "\n",
    "$T(z_i) = m*z_i$ \n",
    "\n",
    "where $m$ is the marginal tax rate chosen by the government. Since the tax rate is independent of earnings, we consider a proportional tax system.\n",
    "\n",
    "We want to maximize the utility of the individual subject to his budget constraint, i.e.\n",
    "\n",
    "$\\max\\limits_{z_i} U_i=c_i - \\frac{\\alpha _i}{1+\\frac{1}{\\epsilon}} ( \\frac{z _i}{ \\alpha _i})^ {1+ \\frac{1}{\\epsilon}}$ s.t. $c_i = z_i - T(z_i)$"
   ]
  },
  {
   "cell_type": "markdown",
   "metadata": {},
   "source": [
    "# 3. Solutions"
   ]
  },
  {
   "cell_type": "markdown",
   "metadata": {},
   "source": [
    "First, we find the analytical solution. Thus, we find the optimal taxable income of the individual subject to the tax rate. \n",
    "Second, we show the graphical solution. Here, we see the optimum of the indifference curve, the budget constraint and the optimum of the individual."
   ]
  },
  {
   "cell_type": "markdown",
   "metadata": {},
   "source": [
    "## 3.1 Analytical solution"
   ]
  },
  {
   "cell_type": "markdown",
   "metadata": {},
   "source": [
    "We import the `sympy`-package in order to define the variables and parameters. Afterwards, we use the `.init_printing`-function, so the variables are written in a pretty way. Lastly, we define the variables and parameters."
   ]
  },
  {
   "cell_type": "code",
   "execution_count": null,
   "metadata": {},
   "outputs": [],
   "source": [
    "# 1) Import sympy in order to write nice equations.\n",
    "import sympy as sm\n",
    "\n",
    "# 2) Define that we want the variables printed in a pretty way.\n",
    "sm.init_printing(use_unicode=True)\n",
    "\n",
    "# 3) Define the different variables and parameters.\n",
    "U    = sm.symbols('U')\n",
    "c    = sm.symbols('c')\n",
    "z    = sm.symbols('z')\n",
    "eps  = sm.symbols('epsilon')\n",
    "T_z  = sm.symbols('T(z)')\n",
    "mtax = sm.symbols('m')\n",
    "alp  = sm.symbols('alpha')"
   ]
  },
  {
   "cell_type": "markdown",
   "metadata": {},
   "source": [
    "We define the different functions. In total, we consider three different functions: the utility function, the budget constraint and the tax payment. The last two functions are functions of taxable income. "
   ]
  },
  {
   "cell_type": "code",
   "execution_count": null,
   "metadata": {},
   "outputs": [],
   "source": [
    "# Define utility function.\n",
    "utility = c - alp/(1+1/eps)*(z/alp)**(1+1/eps)\n",
    "utility"
   ]
  },
  {
   "cell_type": "code",
   "execution_count": null,
   "metadata": {},
   "outputs": [],
   "source": [
    "# Define budget constraint.\n",
    "budget_constraint = sm.Eq(c, z - T_z)\n",
    "budget_constraint"
   ]
  },
  {
   "cell_type": "code",
   "execution_count": null,
   "metadata": {},
   "outputs": [],
   "source": [
    "# Define tax payment.\n",
    "taxpay = sm.Eq(T_z, mtax*z)\n",
    "taxpay"
   ]
  },
  {
   "cell_type": "markdown",
   "metadata": {},
   "source": [
    "In the next step, we want to substitute the tax payment into the budget constraint."
   ]
  },
  {
   "cell_type": "code",
   "execution_count": null,
   "metadata": {},
   "outputs": [],
   "source": [
    "# 1) Isolate T_z in the tax payment (this is done already, but to make sure, we run this line of code).\n",
    "tax_solve = sm.solve(taxpay, T_z)\n",
    "\n",
    "# 2) Define that we want the tax payment substituted into the budget constraint.\n",
    "budget_constraint_sub = budget_constraint.subs(T_z, tax_solve[0])\n",
    "\n",
    "# 3) Ensure that the budget constraint is correct after the substitution. \n",
    "budget_constraint_sub"
   ]
  },
  {
   "cell_type": "markdown",
   "metadata": {},
   "source": [
    "Now, we want to substitute the budget constraint into the utility function. This is done in the same way as before. "
   ]
  },
  {
   "cell_type": "code",
   "execution_count": null,
   "metadata": {},
   "outputs": [],
   "source": [
    "# 1) Isolate c in the budget constraint (this is done already, but to make sure, we run this line of code).\n",
    "budget_constraint_solve = sm.solve(budget_constraint_sub, c)\n",
    "\n",
    "# 2) Define that we want the budget constraint substituted into the utility function.\n",
    "utility_sub = utility.subs(c, budget_constraint_solve[0])\n",
    "\n",
    "# 3) Ensure that the utility function is correct after the substitution. \n",
    "utility_sub"
   ]
  },
  {
   "cell_type": "markdown",
   "metadata": {},
   "source": [
    "We have concluded that the utility function is defined in the right way. After substitution, the utility function does only depend of the taxable income (and parameters, but these are fixed). \n",
    "In order to find the optimal level of taxable income, we differentiate the utility function with respect to taxable income. Afterwards, we isolate for taxable income to derive the optimal level of taxable income ($z^*$). "
   ]
  },
  {
   "cell_type": "code",
   "execution_count": null,
   "metadata": {},
   "outputs": [],
   "source": [
    "# 1) Define that we want to calculate the derivate of the utility function with respect to taxable income.\n",
    "foc = sm.diff(utility_sub, z)\n",
    "\n",
    "# 2) Define that we want to isolate for taxable income to derive z*.\n",
    "z_star = sm.solve(foc, z)\n",
    "\n",
    "# 3) Define the optimal level of taxable income as a Python-function. \n",
    "z_star_func = sm.lambdify((mtax, alp, eps), z_star)\n",
    "\n",
    "# 4) Examine the optimal level of taxable income.\n",
    "z_star"
   ]
  },
  {
   "cell_type": "markdown",
   "metadata": {},
   "source": [
    "We note that the optimal level of taxable income depends on the marginal tax rate, the potential earnings and the elasticity of taxable income with respect to the net-of-tax rate. In the special case where the individual face no taxes, i.e. where $m=0$, his taxable income will equal his potential earnings ($z _i ^* = \\alpha _i$). \n",
    "Furthermore, we note that the taxable income is lowered more due to an increase in the tax rate when the elasticity of taxable income is high. "
   ]
  },
  {
   "cell_type": "markdown",
   "metadata": {},
   "source": [
    "## 3.2 Graphical solution\n"
   ]
  },
  {
   "cell_type": "markdown",
   "metadata": {},
   "source": [
    "We can show how people change behaviour due to a change in the marginal tax rate. As noticed before, the marginal tax rate and the elasticity of taxable income affect how much people deviate from their potential earnings. This can be shown in a graph where one can examine the changes in taxable income when the parameters are changed. In order to do that, we need to define different functions."
   ]
  },
  {
   "cell_type": "markdown",
   "metadata": {},
   "source": [
    "First, we import the `numpy`-package. Afterwards, we define a function for the budget constraint and the utility function. In the utility function, we insert the solution given by $z^*$ instead of $z$. We are then possible to determine the optimal consumption level which is a function of the optimal taxable income. Finally, we isolate consumption and keep utility fixed in order to draw an indifference curve ."
   ]
  },
  {
   "cell_type": "code",
   "execution_count": null,
   "metadata": {},
   "outputs": [],
   "source": [
    "# 1) Import the numpy-package.\n",
    "import numpy as np\n",
    "\n",
    "# 2) Define the budget constraint.\n",
    "def budget_con_fuc(m):\n",
    "    return (1-m)*z\n",
    "budget_con = np.array(range(2))\n",
    "\n",
    "# 3) Define the utility function. \n",
    "def value_of_choice(alpha, epsilon, m):\n",
    "    # The utility is\n",
    "    utility_f = (1-m)*(alpha*(1-m)**epsilon) - alpha/(1+1/epsilon)*(alpha*(1-m)**epsilon/alpha)**(1+1/epsilon)   \n",
    "    return utility_f\n",
    "\n",
    "# 3) Define the consumption level determined by the optimal taxable income.\n",
    "def y(budget_con, m): \n",
    "    return budget_con*(1-m)\n",
    "\n",
    "# 4) Define the consumption level as a function of the fixed utility and taxable income.\n",
    "def utility_function(budget_con, alpha, epsilon, m):\n",
    "    u = value_of_choice(alpha, epsilon, m)\n",
    "    return u + alpha/(1+1/epsilon)*(budget_con/alpha)**(1+1/epsilon)"
   ]
  },
  {
   "cell_type": "markdown",
   "metadata": {},
   "source": [
    "We want to plot the utility function, the budget constraint and the optimal taxable income. The optimal taxable income is given by the point where the budget constraint is tangent to the utility function (which is marked with a bullet on the graph). \n",
    "\n",
    "In order to do so, we import the `matplotlib`-package in order to plot the graphs. Furthermore, we import the `ipywidgets`-package in order to generate interactive sliders. "
   ]
  },
  {
   "cell_type": "code",
   "execution_count": null,
   "metadata": {},
   "outputs": [],
   "source": [
    "# Import packages in order to plot the graph and generate sliders. \n",
    "import matplotlib.pyplot as plt\n",
    "import ipywidgets as widgets\n",
    "plt.style.use('ggplot')"
   ]
  },
  {
   "cell_type": "code",
   "execution_count": null,
   "metadata": {},
   "outputs": [],
   "source": [
    "# 1) Generate the graph.     \n",
    "def graph(alpha, epsilon, tax=0.3):\n",
    "    plt.figure(figsize=(12,6))\n",
    "    budget_con = np.arange(0.0, alpha, 1)\n",
    "    plt.plot(budget_con, utility_function(budget_con, alpha, epsilon, tax))\n",
    "    plt.plot(budget_con, y(budget_con, tax))\n",
    "    z_opt = (alpha*(1-tax)**epsilon)\n",
    "    print(\"The optimal taxable income is: \" + str(round(z_opt)))\n",
    "    plt.plot(z_opt, (1-tax)*z_opt, 'ro')\n",
    "    plt.ylabel('Consumption')\n",
    "    plt.xlabel('Taxable income')\n",
    "    plt.legend(['Indifference curve','Budget constraint', 'Optimum'])\n",
    "    return    \n",
    "\n",
    "# 2) Generate the sliders. \n",
    "widget_alpha = widgets.FloatSlider(\n",
    "    value = 5000,\n",
    "    min=100,\n",
    "    max=10000,\n",
    "    step=100,\n",
    "    description='α:',\n",
    "    readout_format='.0f',\n",
    "    width = 1000,\n",
    "    layout={'width': '500px'}\n",
    ")\n",
    "\n",
    "widget_epsilon = widgets.FloatSlider(\n",
    "    value = 0.8,\n",
    "    min=0.01,\n",
    "    max=2,\n",
    "    step=0.01,\n",
    "    description='$\\epsilon$:',\n",
    "    readout_format='.2f',\n",
    "    width = 1000,\n",
    "    layout={'width': '500px'}\n",
    ")\n",
    "\n",
    "widget_m = widgets.FloatSlider(\n",
    "    value = 0.5,\n",
    "    min=0.0,\n",
    "    max=1,\n",
    "    step=0.01,\n",
    "    description='$m$:',\n",
    "    readout_format='.2f',\n",
    "    width = 1000,\n",
    "    layout={'width': '500px'}\n",
    ")\n",
    "\n",
    "# 3) Print the graph\n",
    "widgets.interact(graph,\n",
    "    alpha=widget_alpha, epsilon=widget_epsilon, tax=widget_m \n",
    ");"
   ]
  },
  {
   "cell_type": "markdown",
   "metadata": {},
   "source": [
    "The graph confirms the conclusion from section 3.1. \n",
    "$z^*$ increases when $\\alpha$ increases. This is obvious since one gets a higher income when his potential earnings increases everything else equal. \n",
    "$z^*$ decreases when $m$ increases. When the marginal tax rate increases, leisure is cheaper, and hence people tend to substitute work for leisure which lowers the taxable income. \n",
    "$z^*$ decreases when $\\epsilon$ increases. When the elasticity of taxable income increases, people respond more to a change in the marginal tax rate. The greater the elasticity, the greater the response. Hence, an increase in the elasticity of taxable income lowers taxable income due to larger labor supply responses. "
   ]
  },
  {
   "cell_type": "markdown",
   "metadata": {},
   "source": [
    "## 3.3 The tax rate that maximizes the tax revenue"
   ]
  },
  {
   "cell_type": "markdown",
   "metadata": {},
   "source": [
    "Until know we have only looked at the individual agent's optimization problem. We will examine how the govenment should tax the individuals to maximize the tax revenue. We do this considering the following draw of $N$ individuals with the preferences and abilities as follows\n",
    "    $$ \\begin{eqnarray*}\n",
    "     &  & \\,\\,\\,\\gamma^{j}=(|\\alpha^{j}|,|\\epsilon^{j}|)\\\\\n",
    "     &  & \\,\\,\\,\\widehat{\\gamma^{j}}=(\\alpha^{j},\\epsilon^{j}) \\\\ \n",
    "     &  & \\,\\,\\,\\widehat{\\gamma^{j}} \\sim \\mathcal{N}(\\mu,\\Sigma) \\\\\n",
    "     &  & \\,\\,\\,\\mu=(\\mu_{\\alpha},\\mu_\\epsilon) \\\\\n",
    "     &  & \\,\\,\\, \\Sigma = \\begin{bmatrix}\n",
    "    \\sigma_{\\alpha}^2       & \\sigma_{\\alpha, \\epsilon}  \\\\\n",
    "    \\sigma_{\\alpha, \\epsilon}   & \\sigma_{\\epsilon}^2 \n",
    "    \\end{bmatrix}\n",
    "    \\end{eqnarray*} $$"
   ]
  },
  {
   "cell_type": "markdown",
   "metadata": {},
   "source": [
    "Below we define a function which draws $N$ observations from the distribution defined above."
   ]
  },
  {
   "cell_type": "code",
   "execution_count": null,
   "metadata": {},
   "outputs": [],
   "source": [
    "def draw(N = 500, mu_alpha = 5000, mu_epsilon = 0.9, sigma_alpha = 1000000, sigma_epsilon = 0.1, correlation = -0.5):\n",
    "    # 1) Define an array which contains mu_alpha and mu_epsilon\n",
    "    mu = np.array([mu_alpha,mu_epsilon])\n",
    "    \n",
    "    # 2) Calculate the covariance between alpha and epsilon based on the correlation\n",
    "    sigma_alp_eps = correlation * (sigma_epsilon * sigma_alpha)**0.5\n",
    "    \n",
    "    # 3) Define an array which contains the covariance matrix\n",
    "    Sigma = np.array([[sigma_alpha, sigma_alp_eps], [sigma_alp_eps, sigma_epsilon]])\n",
    "\n",
    "    # 4) Set the seed and draw the sample \n",
    "    seed = 2019\n",
    "    np.random.seed(seed)\n",
    "    draw = np.random.multivariate_normal(mu, Sigma, size=N)\n",
    "\n",
    "    # 5) Extract alphas and epsilons from the draw and make sure they are all positive\n",
    "    global alphas, epsilons\n",
    "    alphas = np.absolute(draw[:,0])\n",
    "    epsilons = np.absolute(draw[:,1])\n",
    "    return\n",
    "\n",
    "# 6) Plot the distribution of alphas and epsilons\n",
    "draw()\n",
    "plt.figure(figsize=(12,6))\n",
    "plt.scatter(alphas,epsilons)\n",
    "plt.ylabel('Distribution of $\\epsilon_i$')\n",
    "plt.xlabel('Distribution of $α_i$')\n",
    "plt.show()"
   ]
  },
  {
   "cell_type": "markdown",
   "metadata": {},
   "source": [
    "We will now define a function which returns the tax revenue as a function of $\\alpha_i$, $\\epsilon_i$ and the tax rate.  We will then define another function, which returns the tax revenue times -1 as a function of only the tax rate given the values of $\\alpha_i$ and $\\epsilon_i$ from the draw. This function has the nice property that it is easy to minimize using `optimize.minimize`. The result from this minization process will be the tax rate which maximizes the tax revenue."
   ]
  },
  {
   "cell_type": "code",
   "execution_count": null,
   "metadata": {},
   "outputs": [],
   "source": [
    "from scipy import optimize\n",
    "\n",
    "# 1) Define function which returns the tax revenue\n",
    "def tax_revenue(alpha, epsilon, tax):\n",
    "    # 1.1) Find the tax revenue from each agent\n",
    "    tax_indi = alpha*(1-tax)**epsilon * tax\n",
    "    \n",
    "    # 1.2) Aggregate all the tax provenues\n",
    "    tax_revenue = sum(tax_indi)\n",
    "    return tax_revenue\n",
    "\n",
    "# 2) Define function that return the tax revenue as a function of the tax rate for the alphas and epsilons drawn earlier\n",
    "def tax_maximize(tax):\n",
    "    t = tax_revenue(alphas, epsilons, tax) * -1\n",
    "    return t\n",
    "\n",
    "# 3) Define function which maximizes the tax provenue using the tax_maximize(tax) function\n",
    "def find_maximizing_tax(initial_guess=0.1):\n",
    "    # 3.1) Set the lower and upper bound\n",
    "    low_bound = 0\n",
    "    high_bound = 1-1e-5\n",
    "    bounds = ((low_bound,high_bound),)\n",
    "    \n",
    "    # 3.2) Use the optimize.minimize to find the maximizing tax rate\n",
    "    result = optimize.minimize(tax_maximize, initial_guess, bounds=bounds)\n",
    "    return result\n",
    "\n",
    "draw()\n",
    "\n",
    "# 4) Store the optimal tax rate and the corresponding tax revenue.\n",
    "results_max = find_maximizing_tax(initial_guess=0.1)\n",
    "max_tax_rate_old = results_max.x\n",
    "max_tax_rate = max_tax_rate_old[0]\n",
    "max_tax_rev = results_max.fun"
   ]
  },
  {
   "cell_type": "markdown",
   "metadata": {},
   "source": [
    "Given the standard parameters from the draw, we print the maximizing tax rate and the corresponding tax revenue."
   ]
  },
  {
   "cell_type": "code",
   "execution_count": null,
   "metadata": {},
   "outputs": [],
   "source": [
    "print(f'The optimal tax rate is given by {max_tax_rate:.2f}')\n",
    "print(f'The corresponding tax revenue is given by {-max_tax_rev:,.0f}')"
   ]
  },
  {
   "cell_type": "markdown",
   "metadata": {},
   "source": [
    "We will now use the tax_optimize function to plot a Laffer curve with slider to change the parameters of $\\mu_\\alpha$, $\\mu_\\epsilon$, $\\sigma^2_\\alpha$, $\\sigma^2_\\epsilon$, $\\sigma_{\\alpha,\\epsilon}$"
   ]
  },
  {
   "cell_type": "code",
   "execution_count": null,
   "metadata": {},
   "outputs": [],
   "source": [
    "import matplotlib\n",
    "\n",
    "# 1) Define the interval for which the tax rate can be in [0,1], and turn this into a dataframe.\n",
    "tax_rate_int = np.arange(0.0, 1.0, 0.01)\n",
    "tax_table = pd.DataFrame({'taxrate':tax_rate_int})\n",
    "\n",
    "# 2) Define a function which return the tax revenue for differnet tax levels.\n",
    "def tax_revenue_df(row):\n",
    "    t = tax_maximize(row['taxrate'])\n",
    "    return -t\n",
    "\n",
    "# 3) Define function which plot the Laffer curve.\n",
    "def Laffer(mu_alpha = 5000, mu_epsilon = 0.9, sigma_alpha = 50000, sigma_epsilon = 0.1, correlation = 1):\n",
    "    \n",
    "    # 3.1) Make a draw given the parameters specified in this function\n",
    "    draw(mu_alpha = mu_alpha, mu_epsilon = mu_epsilon, sigma_alpha = sigma_alpha, sigma_epsilon = sigma_epsilon, correlation = correlation)\n",
    "    \n",
    "    # 3.2) Calculate the tax revenues for different tax rates.\n",
    "    tax_table[z] = tax_table.apply(tax_revenue_df, axis=1)\n",
    "    \n",
    "    # 3.3) Plot the tax revenues as a function of tax rates.\n",
    "    plt.figure(figsize=(12,6))\n",
    "    plt.plot(tax_table['taxrate'],tax_table[z], color='b')\n",
    "    t = find_maximizing_tax(0.1)\n",
    "    tax = t.x[0] * 100\n",
    "    plt.plot(t.x[0],-t.fun,'ro')\n",
    "    plt.axvline(x=t.x[0], linewidth=1, color='r', linestyle='dashed')\n",
    "    plt.axhline(y=-t.fun, linewidth=1, color='r', linestyle='dashed')\n",
    "    axes = plt.gca()\n",
    "    axes.get_yaxis().set_major_formatter(\n",
    "    matplotlib.ticker.FuncFormatter(lambda x, p: format(int(x), ',')))\n",
    "    print(f'The tax revenue maximizing tax rate is: {tax:.3f} pct. with a tax revenue of {-t.fun:,.0f}')\n",
    "    plt.show()\n",
    "    return\n",
    "   \n",
    "# 4) Customize widgets\n",
    "widget_mua = widgets.FloatSlider(\n",
    "    value = 5000,\n",
    "    min=10,\n",
    "    max=10000,\n",
    "    step=100,\n",
    "    description='$\\mu_a$:',\n",
    "    readout_format='.0f',\n",
    "    width = 1000,\n",
    "    layout={'width': '500px'}\n",
    ")\n",
    "\n",
    "widget_mue = widgets.FloatSlider(\n",
    "    value = 0.9,\n",
    "    min=0,\n",
    "    max=3,\n",
    "    step=0.01,\n",
    "    description='$\\mu_{\\epsilon}$:',\n",
    "    readout_format='.2f',\n",
    "    width = 1000,\n",
    "    layout={'width': '500px'}\n",
    ")\n",
    "\n",
    "widget_sigmaa = widgets.FloatSlider(\n",
    "    value = 1000000,\n",
    "    min=1000,\n",
    "    max=2000000,\n",
    "    step=1000,\n",
    "    description='$\\sigma_a^2$:',\n",
    "    readout_format='.0f',\n",
    "    width = 1000,\n",
    "    layout={'width': '500px'}\n",
    ")\n",
    "\n",
    "widget_sigmae = widgets.FloatSlider(\n",
    "    value = 0.1,\n",
    "    min=0,\n",
    "    max=3,\n",
    "    step=0.01,\n",
    "    description='$\\sigma^2_{ \\epsilon}$:',\n",
    "    readout_format='.2f',\n",
    "    width = 1000,\n",
    "    layout={'width': '500px'}\n",
    ")\n",
    "\n",
    "widget_corr = widgets.FloatSlider(\n",
    "    value = -0.5,\n",
    "    min=-1,\n",
    "    max=1,\n",
    "    step=0.01,\n",
    "    description='$\\sigma_{ a, \\epsilon} $:',\n",
    "    readout_format='.2f',\n",
    "    width = 1000,\n",
    "    layout={'width': '500px'}\n",
    ")\n",
    "\n",
    "# 5) Call the Laffer curve with widgets\n",
    "widgets.interact(Laffer,\n",
    "    mu_alpha = widget_mua, mu_epsilon = widget_mue, sigma_alpha = widget_sigmaa, sigma_epsilon = widget_sigmae, correlation = widget_corr, \n",
    ");"
   ]
  },
  {
   "cell_type": "markdown",
   "metadata": {},
   "source": [
    "The graph above shows that the tax revenue maximizing tax rate varies between around 25 pct. to 99,99 pct. depending on the parameters. The value of $\\mu_\\epsilon$ have a great influence on the tax revenue maximizing tax rate."
   ]
  },
  {
   "cell_type": "markdown",
   "metadata": {},
   "source": [
    "# 4. Further analysis"
   ]
  },
  {
   "cell_type": "markdown",
   "metadata": {},
   "source": [
    "Previously, we considered a proportional tax system where everyone faced the same marginal tax rate for any income level. However, most Western contries have a progressive tax system where people with high incomes face a higher marginal tax rate. Thus, we examine the optimal taxable income when the individual face a tax system where the marginal tax rate to the right of a threshold is higher than to the left of the threshold."
   ]
  },
  {
   "cell_type": "markdown",
   "metadata": {},
   "source": [
    "## 4.1 Extension of the baseline model"
   ]
  },
  {
   "cell_type": "markdown",
   "metadata": {},
   "source": [
    "We consider the same equations as in section 2. However, the function which defines the tax payment is different now. The tax payment is given by\n",
    "\n",
    "$T_{new} (z_i) = min(z_i, K) * m + max(z_i - K, 0) * m_H$\n",
    "\n",
    "where $K$ is the threshold, and $m_H$ is the marginal tax rate faced by high-income earners (people with an income above the threshold). \n",
    "\n",
    "We note that if $z_i \\leq K$ then there is no change from before, and the optimal tax rate is identical to the solution in section 3. An individual with an income above the threshold face the tax payment \n",
    "\n",
    "$T_{H} (z_i) = K * m + (z_i - K) * m_H$"
   ]
  },
  {
   "cell_type": "markdown",
   "metadata": {},
   "source": [
    "## 4.2 Analytical solution"
   ]
  },
  {
   "cell_type": "markdown",
   "metadata": {},
   "source": [
    "As mentioned in section 4.1, the introduction of the new tax system does not change anything from before for people with an income below the threshold. High-income earners respond in another way than before, and hence we calculate the optimal taxable income for them. \n",
    "The steps in this section is in most cases identical with the steps in section 3.2."
   ]
  },
  {
   "cell_type": "markdown",
   "metadata": {},
   "source": [
    "First, we define the new symbols and the new tax system for high-income earners. "
   ]
  },
  {
   "cell_type": "code",
   "execution_count": null,
   "metadata": {},
   "outputs": [],
   "source": [
    "# 1) Define symbols.\n",
    "T_H_z   = sm.symbols('T_{H}(z)')\n",
    "m_H     = sm.symbols('m_H')\n",
    "Kn      = sm.symbols('K')\n",
    "\n",
    "# 2) Define new tax system.\n",
    "taxhigh = sm.Eq(T_H_z, mtax*Kn + m_H*(z-Kn))\n",
    "taxhigh"
   ]
  },
  {
   "cell_type": "markdown",
   "metadata": {},
   "source": [
    "We insert the new function of tax payment into the budget constraint."
   ]
  },
  {
   "cell_type": "code",
   "execution_count": null,
   "metadata": {},
   "outputs": [],
   "source": [
    "# 1) Isolate T_z in the tax payment (this is done already, but to make sure, we run this line of code).\n",
    "tax_high_solve = sm.solve(taxhigh, T_H_z)\n",
    "\n",
    "# 2) Define that we want the tax payment substituted into the budget constraint.\n",
    "budget_constraint_high_sub = budget_constraint.subs(T_z, tax_high_solve[0])\n",
    "\n",
    "# 3) Ensure that the budget constraint is correct after the substitution. \n",
    "budget_constraint_high_sub"
   ]
  },
  {
   "cell_type": "markdown",
   "metadata": {},
   "source": [
    "We insert the new budget constraint into the utility function."
   ]
  },
  {
   "cell_type": "code",
   "execution_count": null,
   "metadata": {},
   "outputs": [],
   "source": [
    "# 1) Isolate c in the budget constraint (this is done already, but to make sure, we run this line of code).\n",
    "budget_constraint_high_solve = sm.solve(budget_constraint_high_sub, c)\n",
    "\n",
    "# 2) Define that we want the budget constraint substituted into the utility function.\n",
    "utility_high_sub = utility.subs(c, budget_constraint_high_solve[0])\n",
    "\n",
    "# 3) Ensure that the utility function is correct after the substitution. \n",
    "utility_high_sub"
   ]
  },
  {
   "cell_type": "markdown",
   "metadata": {},
   "source": [
    "We differentiate the utility function with respect to taxable income in order to derive the optimal level of taxable income. "
   ]
  },
  {
   "cell_type": "code",
   "execution_count": null,
   "metadata": {},
   "outputs": [],
   "source": [
    "# 1) Define that we want to calculate the derivate of the utility function with respect to taxable income.\n",
    "foc_high = sm.diff(utility_high_sub, z)\n",
    "\n",
    "# 2) Define that we want to isolate for taxable income to derive z*.\n",
    "z_star_high = sm.solve(foc_high, z)\n",
    "\n",
    "# 3) Define the optimal level of taxable income as a Python-function. \n",
    "z_star_func_high = sm.lambdify((m_H, alp, eps), z_star_high)\n",
    "\n",
    "# 4) Examine the optimal level of taxable income.\n",
    "z_star_high"
   ]
  },
  {
   "cell_type": "markdown",
   "metadata": {},
   "source": [
    "We denote this level of optimal taxable income as $z_{high} ^*$. We note that this is the same optimal taxable income as in section 3.1 besides the marginal tax rate. However, it is not possible in this function to show that high-income earners tend to earn an income which is identical to the threshold. This is called \"bunching\" since people tend to bunch at kink points. If people with potential earnings above the threshold choose an optimal taxable income such that $z_{high}^*<K$ and $z^*>K$ then people will bunch at the kink. This is possible to show in a graphical analysis. "
   ]
  },
  {
   "cell_type": "markdown",
   "metadata": {},
   "source": [
    "## Graphical analysis"
   ]
  },
  {
   "cell_type": "markdown",
   "metadata": {},
   "source": [
    "In this section we will analyze the behavior of the worker grahpically. First, we will find the maximum utility of the worker, and then we will plot the indifference curve with the budget constraint the same way as in section 3.2."
   ]
  },
  {
   "cell_type": "code",
   "execution_count": null,
   "metadata": {},
   "outputs": [],
   "source": [
    "# 1) Define a function that return the maximum utility level given alpha, epsilon, low tax rate, high tax rate and the threshold\n",
    "def value_of_choice_2(alpha, epsilon, tax_low, tax_high, kink):\n",
    "    \n",
    "    # 1.1) If the alpha is below the income threshold, the maximum utility is found using the old budget constraint without the tax rate for high income earners\n",
    "    if alpha < kink:\n",
    "        global z_opt_new\n",
    "        z_opt_new = (alpha*(1-tax_low)**epsilon)\n",
    "        tax_opt_new = z_opt_new * tax_low\n",
    "        utility_f = (1-tax_low)*(alpha*(1-tax_low)**epsilon) - alpha/(1+1/epsilon)*(alpha*(1-tax_low)**epsilon/alpha)**(1+1/epsilon)\n",
    "        return utility_f, z_opt_new, tax_opt_new\n",
    "    \n",
    "    # 1.2) Find the maximum utility if alpha is above the threshold\n",
    "    if alpha >= kink:\n",
    "        \n",
    "        # 1.3) Find the utility for the budget constaint only below the threshold\n",
    "        utility_l = (1-tax_low)*(alpha*(1-tax_low)**epsilon) - alpha/(1+1/epsilon)*(alpha*(1-tax_low)**epsilon/alpha)**(1+1/epsilon)\n",
    "        z_opt_low = (alpha*(1-tax_low)**epsilon)\n",
    "        tax_opt_low = z_opt_low * tax_low\n",
    "        \n",
    "        # 1.4) If the optimal income earned on the low budget set is above the threshold the low utility should be evaluated in the threshold\n",
    "        if alpha*(1-tax_low)**epsilon>kink:\n",
    "            utility_l = (1-tax_low)*kink - alpha/(1+1/epsilon)*(kink/alpha)**(1+1/epsilon)\n",
    "            z_opt_low = kink\n",
    "            tax_opt_low = kink * tax_low\n",
    "            \n",
    "        # 1.5) Find the utility for the budget constaint only above the threshold\n",
    "        utility_h = (1-tax_low)*kink+(1-tax_high)*(alpha*(1-tax_high)**epsilon-kink) - alpha/(1+1/epsilon)*(alpha*(1-tax_high)**epsilon/alpha)**(1+1/epsilon)\n",
    "        z_opt_high = (alpha*(1-tax_high)**epsilon)\n",
    "        tax_opt_high = kink * tax_low + (z_opt_high - kink) * tax_high\n",
    "        \n",
    "        # 1.4) If the optimal income earned on the high budget set is below the threshold the high utility should be evaluated in the threshold\n",
    "        if alpha*(1-tax_high)**epsilon<kink:\n",
    "            utility_h = (1-tax_low)*kink - alpha/(1+1/epsilon)*(kink/alpha)**(1+1/epsilon)\n",
    "            z_opt_high = kink\n",
    "        \n",
    "        # 1.5) return the values for the higest utility\n",
    "        utility_g = max(utility_l, utility_h)\n",
    "        if utility_g==utility_l:\n",
    "            z_opt_new=z_opt_low\n",
    "            tax_opt_new = tax_opt_low\n",
    "        else:\n",
    "            z_opt_new=z_opt_high\n",
    "            tax_opt_new = tax_opt_high\n",
    "        return utility_g, z_opt_new, tax_opt_new\n",
    "\n",
    "# 2) Define the indifference curve\n",
    "def indif_curve(budget_con, alpha, epsilon, tax_low, tax_high, k):\n",
    "    u = value_of_choice_2(alpha, epsilon, tax_low, tax_high, k)[0]\n",
    "    return u + alpha/(1+1/epsilon)*(budget_con/alpha)**(1+1/epsilon)\n",
    "\n",
    "# 3) Define a function that makes a plot with the indifference curve, the budget constraint and the optimal behaviour.\n",
    "def graph2(alpha, epsilon, tax_low=0.35, tax_high=0.7, kink=500):\n",
    "    plt.figure(figsize=(12,6))\n",
    "    budget_con = np.arange(0.0, alpha*1.1+100, 1)\n",
    "    \n",
    "    # 3.1) Plot the indifference curve\n",
    "    plt.plot(budget_con, indif_curve(budget_con, alpha, epsilon, tax_low, tax_high, kink))\n",
    "    \n",
    "    # 3.2) Plot the budget constraints\n",
    "    lower = np.arange(0.0, kink, 1)\n",
    "    plt.plot(lower, lower*(1-tax_low))\n",
    "    upper = np.arange(kink, alpha*1.1+100, 1)\n",
    "    plt.plot(upper, (1-tax_low)*kink+(upper-kink)*(1-tax_high), color='g')\n",
    "    plt.axvline(x=kink, color='black', linestyle=':')\n",
    "    print(\"The optimal taxable income is: \"+str(round(z_opt_new)))\n",
    "    plt.plot(z_opt_new, indif_curve(z_opt_new, alpha, epsilon, tax_low, tax_high, kink), 'ro')\n",
    "    plt.ylabel('Consumption')\n",
    "    plt.xlabel('Taxable income')\n",
    "    plt.legend(['Indifference curve','Budget constraint (low marginal tax)', 'Budget constraint (high marginal tax)', 'Threshold', 'Optimum'])\n",
    "    return    \n",
    "\n",
    "# 4) Plot the graph with interactive widgets\n",
    "widget_ml = widgets.FloatSlider(\n",
    "    value = 0.5,\n",
    "    min=0.0,\n",
    "    max=1,\n",
    "    step=0.01,\n",
    "    description='$m_l$:',\n",
    "    readout_format='.2f',\n",
    "    width = 1000,\n",
    "    layout={'width': '500px'}\n",
    ")\n",
    "\n",
    "\n",
    "\n",
    "widget_mh = widgets.FloatSlider(\n",
    "    value = 0.5,\n",
    "    min=0.0,\n",
    "    max=1,\n",
    "    step=0.01,\n",
    "    description='$m_h$:',\n",
    "    readout_format='.2f',\n",
    "    width = 1000,\n",
    "    layout={'width': '500px'}\n",
    ")\n",
    "\n",
    "widget_kink = widgets.FloatSlider(\n",
    "    value = 2000,\n",
    "    min=10,\n",
    "    max=5000,\n",
    "    step=10,\n",
    "    description='$K$:',\n",
    "    readout_format='.2f',\n",
    "    width = 1000,\n",
    "    layout={'width': '500px'}\n",
    ")\n",
    "\n",
    "widgets.interact(graph2,\n",
    "    alpha=widget_alpha, epsilon=widget_epsilon, tax_low=widget_ml, tax_high=widget_mh, kink=widget_kink\n",
    ");"
   ]
  },
  {
   "cell_type": "markdown",
   "metadata": {},
   "source": [
    "We note some of the same results as in the conclusion in section 3.2. In this extended model, we note that people with a potential income slightly above the threshold will bunch at the kink. This is due to the fact that people are unwilling to work at the high marginal tax rate, but will like to work at the low marginal tax rate. Thus, they maximize their utility by having a taxable income exactly equal to the threshold. "
   ]
  },
  {
   "cell_type": "markdown",
   "metadata": {},
   "source": [
    "## 4.3 The tax rate that maximizes the tax revenue"
   ]
  },
  {
   "cell_type": "markdown",
   "metadata": {},
   "source": [
    "We will use the distribution of agents we defined in section 3.3 to calculate the tax revenue for different low and high taxes and different thresholds for the high tax. First, we make new draw from the draw function and then define a function which returns the total tax renevue as well as the tax payment from each agent"
   ]
  },
  {
   "cell_type": "code",
   "execution_count": null,
   "metadata": {},
   "outputs": [],
   "source": [
    "# 1) Draws from the draw function\n",
    "N=500\n",
    "mu_alpha_a=5000\n",
    "draw(N=N, mu_alpha=mu_alpha_a, mu_epsilon = 0.9, sigma_alpha = 1000000, sigma_epsilon = 0.1, correlation = -0.5)\n",
    "\n",
    "# 2) Convert the numpy array with the alphas and epsilons into a list\n",
    "alphas_list = alphas.tolist()\n",
    "epsilons_list = epsilons.tolist()\n",
    "\n",
    "# 3) Define a function which return total tax revenue as well as tax payment from each agent\n",
    "def calc_tau(alphas_list, epsilons_list, tax_low, tax_high, kink):\n",
    "    # 3.1) Create empty list with all the tax payments\n",
    "    tau_list = []\n",
    "    z_list = []\n",
    "    # 3.2) Calculate the tax payment from every agent using a for loop\n",
    "    for x in range(N):\n",
    "        tau_list.append(value_of_choice_2(alphas_list[x], epsilons_list[x], tax_low, tax_high, kink)[2])\n",
    "        z_list.append(value_of_choice_2(alphas_list[x], epsilons_list[x], tax_low, tax_high, kink)[1])\n",
    "        \n",
    "    return sum(tau_list), tau_list, z_list\n",
    "\n",
    "# 4) Define function with calculate tax revenue times minus 1 as a function of tax_low, tax_high, kink - \n",
    "    # given the current values of alphas_list and epsilons_list. The minimum of this function is the maximum tax revenue\n",
    "def tax_kink_max(params):\n",
    "    tax_low, tax_high, kink = params\n",
    "    # 3.1) Create empty list with all the tax payments\n",
    "    tau_list = []\n",
    "    \n",
    "    # 4.1) Calculate the tax payment from every agent using a for loop\n",
    "    for x in range(N):\n",
    "        tau_list.append(value_of_choice_2(alphas_list[x], epsilons_list[x], tax_low, tax_high, kink)[2])\n",
    "    tau = - sum(tau_list)\n",
    "    return tau"
   ]
  },
  {
   "cell_type": "markdown",
   "metadata": {},
   "source": [
    "Below is a calculation of the tax revenue given $m=0.4$, $m_H=0.6$ and $K=1000$."
   ]
  },
  {
   "cell_type": "code",
   "execution_count": null,
   "metadata": {},
   "outputs": [],
   "source": [
    "params = [0.4,0.6,1000]\n",
    "print(f'The tax revenue is: {-tax_kink_max(params):,.0f}')"
   ]
  },
  {
   "cell_type": "markdown",
   "metadata": {},
   "source": [
    "We will now use the `optimize.differential_evolution` function to find the tax rates and the threshold for the high tax that maximizes the tax revenue. We use `optimize.differential_evolution` instead of `optimize.minimize` as the former finds the global minimum and the latter only finds local minimums."
   ]
  },
  {
   "cell_type": "code",
   "execution_count": null,
   "metadata": {},
   "outputs": [],
   "source": [
    "# 1) Set the initial guess and the bounds for the tax rates\n",
    "initial_guess = [0.5, 0.5, 200]\n",
    "low_bound_tax = 0\n",
    "high_bound_tax = 1-1e-5\n",
    "bnds = ((low_bound_tax, high_bound_tax), (low_bound_tax, high_bound_tax), (0,100000))\n",
    "\n",
    "# 2) Find the tax rate and kink that maximizes the tax revenue\n",
    "draw(N=N, mu_alpha = mu_alpha_a, mu_epsilon = 0.9, sigma_alpha = 1000000, sigma_epsilon = 0.1, correlation = -0.5)\n",
    "alphas_list = alphas.tolist()\n",
    "epsilons_list = epsilons.tolist()\n",
    "result = optimize.differential_evolution(tax_kink_max, bounds=bnds)\n",
    "print(f'mu_alpha = {mu_alpha_a:.0f}, mu_epsilon = 0.9, sigma_alpha = 1000000, sigma_epsilon = 0.1, correlation = -0.5 \\n')\n",
    "print(f'The maximizing low tax rate is:    {result.x[0]*100:.2f} pct.')\n",
    "print(f'The maximizing high tax rate is:   {result.x[1]*100:.2f} pct.')\n",
    "print(f'The maximizing kink rate is:       {result.x[2]:,.0f}')\n",
    "print(f'The tax revenue is:                {-result.fun:,.0f} \\n \\n')"
   ]
  },
  {
   "cell_type": "markdown",
   "metadata": {},
   "source": [
    "The result above shows that the government should tax all income below 1,578 with 86.57 pct. and then tax any income above 1,578 with 27.48 pct. The tax revenue is 885,403 compared to 710,528 in the linear tax system."
   ]
  },
  {
   "cell_type": "markdown",
   "metadata": {},
   "source": [
    "We will now plot the tax revenue as a function of the low tax rate, the high tax rate and the kink in three different plot, respectivly."
   ]
  },
  {
   "cell_type": "code",
   "execution_count": null,
   "metadata": {},
   "outputs": [],
   "source": [
    "# 1) Define a function which return a list of tax revenues for differente low tax rates given the high tax rate and the kink\n",
    "def laffer_fun_low(tax_high,kink):\n",
    "    x=0\n",
    "    listen = []\n",
    "    xlist = []\n",
    "    increment = 0.01\n",
    "    while x<1:\n",
    "        xlist.append(x)\n",
    "        listen.append(calc_tau(alphas_list, epsilons_list, x, tax_high, kink)[0])\n",
    "        x += increment\n",
    "    return listen, xlist\n",
    "\n",
    "# 2) Define a function which return a list of tax revenues for differente high tax rates given the low tax rate and the kink\n",
    "def laffer_fun_high(tax_low,kink):\n",
    "    x=0\n",
    "    listen = []\n",
    "    xlist = []\n",
    "    increment = 0.01\n",
    "    while x<1:\n",
    "        xlist.append(x)\n",
    "        listen.append(calc_tau(alphas_list, epsilons_list, tax_low, x, kink)[0])\n",
    "        x += increment\n",
    "    return listen, xlist\n",
    "\n",
    "# 3) Define a function which return a list of tax revenues for differente kinks given the low tax rate and the high tax\n",
    "def laffer_fun_kink(tax_low,tax_high):\n",
    "    x=0\n",
    "    listen = []\n",
    "    xlist = []\n",
    "    increment = 100\n",
    "    while x<10000:\n",
    "        xlist.append(x)\n",
    "        listen.append(calc_tau(alphas_list, epsilons_list, tax_low, tax_high, x)[0])\n",
    "        x += increment\n",
    "    return listen, xlist\n",
    "\n",
    "# 4) Make list containing the tax revenues for all low tax rate for differente high tax rates and kinks\n",
    "x = laffer_fun_low(0,4752)[1]\n",
    "low_1 = laffer_fun_low(result.x[1],result.x[2])[0]\n",
    "low_2 = laffer_fun_low(result.x[1],result.x[2]*1.15)[0]\n",
    "low_3 = laffer_fun_low(0,mu_alpha_a/2)[0]\n",
    "\n",
    "# 5) Make list containing the tax revenues for all high tax rate for differente low tax rates and kinks\n",
    "high_1 = laffer_fun_high(result.x[0],result.x[2])[0]\n",
    "high_2 = laffer_fun_high(result.x[0],result.x[2]*1.15)[0]\n",
    "high_3 = laffer_fun_high(0.5,mu_alpha_a/2)[0]\n",
    "\n",
    "# 6) Make list containing the tax revenues for all kinks for differente low tax rates and high tax rates\n",
    "x_kink = laffer_fun_kink(result.x[0],result.x[1])[1]\n",
    "kink_1 = laffer_fun_kink(result.x[0],result.x[1])[0]\n",
    "kink_2 = laffer_fun_kink(0.4,0.6)[0]\n",
    "kink_3 = laffer_fun_kink(1,0)[0]\n",
    "\n",
    "# 7) Print the plots\n",
    "import matplotlib\n",
    "\n",
    "fig, (ax1,ax2) = plt.subplots(1, 2, figsize=(15, 6))\n",
    "ax1.get_yaxis().set_major_formatter(\n",
    "matplotlib.ticker.FuncFormatter(lambda x, p: format(int(x), ',')))\n",
    "ax2.get_yaxis().set_major_formatter(\n",
    "matplotlib.ticker.FuncFormatter(lambda x, p: format(int(x), ',')))\n",
    "\n",
    "# 8) Tax revenue as a function of the low tax rate\n",
    "ax1.plot(x,low_1, color='r')\n",
    "ax1.plot(x,low_2, color='b', linestyle=':')\n",
    "ax1.plot(x,low_3, color='b', linestyle='--')\n",
    "ax1.legend([f'High tax = {result.x[1]:.2f}, kink = {result.x[2]:.0f}',f'High tax = {result.x[1]:.2f}, kink = {result.x[2]*1.5:.0f}',f'High tax = 0.5, kink = {mu_alpha_a/2:.0f}'])\n",
    "ax1.set_ylabel('Tax revenue')\n",
    "ax1.set_xlabel('Tax rate')\n",
    "ax1.set_title('Laffer curve for low tax rate')\n",
    "\n",
    "# 9) Tax revenue as a function of the low tax rate\n",
    "ax2.plot(x,high_1, color='r')\n",
    "ax2.plot(x,high_2, color='b', linestyle=':')\n",
    "ax2.plot(x,high_3, color='b', linestyle='--')\n",
    "ax2.legend([f'Low tax = {result.x[0]:.2f}, kink = {result.x[2]:.2f}',f'Low tax = {result.x[0]:.2f}, kink = {result.x[2]*1.2:.2f}',f'Low tax = 0.5, kink = {mu_alpha_a/2:.2f}'])\n",
    "ax2.set_ylabel('Tax revenue')\n",
    "ax2.set_xlabel('Tax rate')\n",
    "ax2.set_title('Laffer curve for high tax rate')\n",
    "plt.show()\n",
    "\n",
    "# 10) Tax revenue as a function of the kink\n",
    "fig, ax3 = plt.subplots(1, 1, figsize=(15, 6))\n",
    "ax3.get_yaxis().set_major_formatter(\n",
    "matplotlib.ticker.FuncFormatter(lambda x, p: format(int(x), ',')))\n",
    "\n",
    "ax3.plot(x_kink,kink_1, color='r')\n",
    "ax3.plot(x_kink,kink_2, color='b', linestyle=':')\n",
    "ax3.plot(x_kink,kink_3, color='b', linestyle='--')\n",
    "ax3.set_ylabel('Tax revenue')\n",
    "ax3.set_xlabel('Threshold for high tax (kink)')\n",
    "ax3.set_title('Laffer curve for kink')\n",
    "ax3.legend([f'Low tax = {result.x[0]:.2f}, high tax = {result.x[1]:.2f}',f'Low tax = 0.4, high tax = 0.6',f'Low tax = 0.8, high tax = 0.2'])\n",
    "\n",
    "plt.show()\n",
    "\n"
   ]
  },
  {
   "cell_type": "markdown",
   "metadata": {},
   "source": [
    "To see how the tax rate affect the agents behavior, we have below made a histogram which plots the distribution of the tax payments and the taxable income as a function of the three tax parameters. The function also prints the tax revenue."
   ]
  },
  {
   "cell_type": "code",
   "execution_count": null,
   "metadata": {},
   "outputs": [],
   "source": [
    "# 1) Make a function which plots a histogram over the tax payments and the taxable income\n",
    "def histo(tax_low=1, tax_high=0, kink=4000):\n",
    "    plt.figure(figsize=(12,8))\n",
    "    graf = calc_tau(alphas_list, epsilons_list, tax_low, tax_high, kink)\n",
    "    tax_max = max(graf[2])\n",
    "    bins = np.linspace(0, tax_max, 50)\n",
    "    plt.hist(graf[1], bins=bins, color='r', alpha=0.5)\n",
    "    plt.hist(graf[2], bins=bins, color='b', alpha=0.5)\n",
    "    plt.legend(['Tax payment', 'Taxable income'])\n",
    "    plt.show()\n",
    "    print(f'The tax provenue is {graf[0]:,.0f}')\n",
    "\n",
    "widgets.interact(histo,\n",
    "    tax_low=widget_ml, tax_high=widget_mh, kink=widget_kink\n",
    ");"
   ]
  },
  {
   "cell_type": "markdown",
   "metadata": {},
   "source": [
    "### Conclusion"
   ]
  },
  {
   "cell_type": "markdown",
   "metadata": {},
   "source": [
    "In this project, we have examined how people react to changes in the marginal tax rate. We have found that a larger marginal tax rate and a higher elasticity affect the labor supply negatively in a proportional tax system. This is shown analytically and by a graph, where one can change the parameter values.\n",
    "\n",
    "Most Western countries apply a progressive tax system, where high-income earners face a greater marginal tax rate. We show analyticcaly that initial top tax payers only are affected by the largest marginal tax rate. We have shown in the graph that people will tend to bunch at the kink, so they earn the highest possible income without having to pay the largest marginal tax rate. This is in line with the literature. "
   ]
  }
 ],
 "metadata": {
  "kernelspec": {
   "display_name": "Python 3",
   "language": "python",
   "name": "python3"
  },
  "language_info": {
   "codemirror_mode": {
    "name": "ipython",
    "version": 3
   },
   "file_extension": ".py",
   "mimetype": "text/x-python",
   "name": "python",
   "nbconvert_exporter": "python",
   "pygments_lexer": "ipython3",
   "version": "3.7.1"
  }
 },
 "nbformat": 4,
 "nbformat_minor": 2
}
